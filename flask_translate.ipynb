{
 "cells": [
  {
   "cell_type": "code",
   "execution_count": 1,
   "metadata": {},
   "outputs": [],
   "source": [
    "from flask import Flask, request, jsonify, render_template_string\n",
    "from flask_cors import CORS  # Importar CORS\n",
    "from transformers import AutoModelForSeq2SeqLM, AutoTokenizer, pipeline\n",
    "import torch\n",
    "from threading import Thread"
   ]
  },
  {
   "cell_type": "code",
   "execution_count": 2,
   "metadata": {},
   "outputs": [],
   "source": [
    "# Crear la app de Flask\n",
    "app = Flask(__name__)\n",
    "\n",
    "# Habilitar CORS para todas las rutas\n",
    "CORS(app)  # Esto habilita CORS para todos los orí­genes\n",
    "\n",
    "# Cargar el modelo\n",
    "model_name = \"facebook/nllb-200-distilled-600M\"     # Versión compacta\n",
    "# model_name = \"facebook/nllb-200-3.3B\"            # Mejor calidad\n",
    "tokenizer = AutoTokenizer.from_pretrained(model_name)\n",
    "model = AutoModelForSeq2SeqLM.from_pretrained(model_name)\n",
    "\n",
    "# For English to Spanish\n",
    "src_lang = \"eng_Latn\"\n",
    "tgt_lang = \"spa_Latn\"\n",
    "\n",
    "# Cargar contenido HTML desde un archivo\n",
    "def load_html(filename):\n",
    "    with open(filename, \"r\", encoding=\"utf-8\") as f:\n",
    "        return f.read()\n",
    "\n",
    "# Ruta para servir el HTML\n",
    "@app.route(\"/\")\n",
    "def home():\n",
    "    html_content = load_html(\"templates/page.html\")\n",
    "    return render_template_string(html_content)\n",
    "\n",
    "# Ruta para el cambio de idiomas\n",
    "@app.route(\"/switch\", methods=[\"POST\"])\n",
    "def switch_lang():\n",
    "    data = request.json\n",
    "    global src_lang\n",
    "    global tgt_lang\n",
    "    if  data[\"source\"] == \"Inglés\" and data[\"target\"] == \"Español\":\n",
    "        src_lang = \"spa_Latn\"\n",
    "        tgt_lang = \"eng_Latn\"\n",
    "        return jsonify({\"source\":\"Español\", \"target\":\"Inglés\"})\n",
    "    else:\n",
    "        src_lang = \"eng_Latn\"\n",
    "        tgt_lang = \"spa_Latn\"\n",
    "        return jsonify({\"source\":\"Inglés\", \"target\":\"Español\"})\n",
    "    \n",
    "# Ruta para la traducción\n",
    "@app.route(\"/translate\", methods=[\"POST\"])\n",
    "def translate():\n",
    "    translator = pipeline(\"translation\", model=model, tokenizer=tokenizer, src_lang=src_lang, tgt_lang=tgt_lang, max_length = 400)\n",
    "    data = request.json\n",
    "    output = translator(data[\"text\"])\n",
    "    return jsonify({\"translate\": output[0][\"translation_text\"]})"
   ]
  },
  {
   "cell_type": "code",
   "execution_count": null,
   "metadata": {},
   "outputs": [
    {
     "name": "stdout",
     "output_type": "stream",
     "text": [
      " * Serving Flask app '__main__'\n",
      " * Debug mode: off\n"
     ]
    },
    {
     "name": "stderr",
     "output_type": "stream",
     "text": [
      "WARNING: This is a development server. Do not use it in a production deployment. Use a production WSGI server instead.\n",
      " * Running on all addresses (0.0.0.0)\n",
      " * Running on http://127.0.0.1:5555\n",
      " * Running on http://172.82.3.25:5555\n",
      "Press CTRL+C to quit\n",
      "127.0.0.1 - - [15/Mar/2025 19:33:16] \"GET / HTTP/1.1\" 200 -\n",
      "127.0.0.1 - - [15/Mar/2025 19:33:16] \"GET /favicon.ico HTTP/1.1\" 404 -\n",
      "127.0.0.1 - - [15/Mar/2025 19:33:35] \"OPTIONS /translate HTTP/1.1\" 200 -\n",
      "Device set to use cuda:0\n",
      "127.0.0.1 - - [15/Mar/2025 19:33:39] \"POST /translate HTTP/1.1\" 200 -\n",
      "127.0.0.1 - - [15/Mar/2025 19:33:43] \"OPTIONS /switch HTTP/1.1\" 200 -\n",
      "127.0.0.1 - - [15/Mar/2025 19:33:43] \"POST /switch HTTP/1.1\" 200 -\n",
      "127.0.0.1 - - [15/Mar/2025 19:33:48] \"OPTIONS /translate HTTP/1.1\" 200 -\n",
      "Device set to use cuda:0\n",
      "127.0.0.1 - - [15/Mar/2025 19:33:48] \"POST /translate HTTP/1.1\" 200 -\n",
      "127.0.0.1 - - [15/Mar/2025 19:36:30] \"GET / HTTP/1.1\" 200 -\n"
     ]
    }
   ],
   "source": [
    "# Ejecutar Flask en un hilo\n",
    "def run_flask():\n",
    "    app.run(host=\"0.0.0.0\", port=5555)\n",
    "\n",
    "# Crear un hilo para ejecutar Flask\n",
    "thread = Thread(target=run_flask)\n",
    "thread.start()"
   ]
  }
 ],
 "metadata": {
  "kernelspec": {
   "display_name": "flask_venv",
   "language": "python",
   "name": "python3"
  },
  "language_info": {
   "codemirror_mode": {
    "name": "ipython",
    "version": 3
   },
   "file_extension": ".py",
   "mimetype": "text/x-python",
   "name": "python",
   "nbconvert_exporter": "python",
   "pygments_lexer": "ipython3",
   "version": "3.12.8"
  }
 },
 "nbformat": 4,
 "nbformat_minor": 2
}
