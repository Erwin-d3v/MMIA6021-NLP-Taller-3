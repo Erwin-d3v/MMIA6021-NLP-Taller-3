{
 "cells": [
  {
   "cell_type": "code",
   "execution_count": 1,
   "metadata": {},
   "outputs": [],
   "source": [
    "from flask import Flask, request, jsonify\n",
    "from transformers import AutoModelForSequenceClassification, AutoTokenizer\n",
    "import torch"
   ]
  },
  {
   "cell_type": "code",
   "execution_count": 3,
   "metadata": {},
   "outputs": [],
   "source": [
    "app = Flask(__name__)\n",
    "model_name= \"distilbert-base-uncased-finetuned-sst-2-english\"\n",
    "model= AutoModelForSequenceClassification.from_pretrained(model_name)\n",
    "tokenizer= AutoTokenizer.from_pretrained(model_name)\n",
    "\n",
    "@app.route(\"/predict\", methods=[\"POST\"])\n",
    "def predict():\n",
    "    data = request.json\n",
    "    inputs = tokenizer(data[\"text\"], return_tensors=\"pt\", truncation=True, padding=True)\n",
    "    with torch.no_grad():\n",
    "        outputs = model(**inputs)\n",
    "        prediction= torch.argmax(outputs.logits).item()\n",
    "    sentiment = \"Positivo\" if prediction == 1 else \"Negativo\"\n",
    "    return jsonify({\"prediction\": sentiment})\n"
   ]
  },
  {
   "cell_type": "code",
   "execution_count": 4,
   "metadata": {},
   "outputs": [
    {
     "name": "stdout",
     "output_type": "stream",
     "text": [
      " * Serving Flask app '__main__'\n",
      " * Debug mode: off\n"
     ]
    },
    {
     "name": "stderr",
     "output_type": "stream",
     "text": [
      "WARNING: This is a development server. Do not use it in a production deployment. Use a production WSGI server instead.\n",
      " * Running on all addresses (0.0.0.0)\n",
      " * Running on http://127.0.0.1:5555\n",
      " * Running on http://192.168.91.173:5555\n",
      "Press CTRL+C to quit\n",
      "127.0.0.1 - - [08/Mar/2025 11:33:43] \"POST /predict HTTP/1.1\" 200 -\n",
      "127.0.0.1 - - [08/Mar/2025 11:34:00] \"POST /predict HTTP/1.1\" 200 -\n",
      "127.0.0.1 - - [08/Mar/2025 11:34:39] \"POST /predict HTTP/1.1\" 200 -\n"
     ]
    }
   ],
   "source": [
    "app.run(host=\"0.0.0.0\", port=5555)"
   ]
  },
  {
   "cell_type": "code",
   "execution_count": null,
   "metadata": {},
   "outputs": [
    {
     "data": {
      "application/vnd.jupyter.widget-view+json": {
       "model_id": "ebb517c83e47421f934798120318c4d4",
       "version_major": 2,
       "version_minor": 0
      },
      "text/plain": [
       "config.json:   0%|          | 0.00/629 [00:00<?, ?B/s]"
      ]
     },
     "metadata": {},
     "output_type": "display_data"
    },
    {
     "name": "stderr",
     "output_type": "stream",
     "text": [
      "d:\\STUDIO\\Documents\\MEGA\\Cursos\\AI USFQ\\Clases\\MMIA-6021 - PROCESAMIENTO LENGUAJE NATURAL\\Taller-3\\flask_venv\\Lib\\site-packages\\huggingface_hub\\file_download.py:142: UserWarning: `huggingface_hub` cache-system uses symlinks by default to efficiently store duplicated files but your machine does not support them in C:\\Users\\STUDIO\\.cache\\huggingface\\hub\\models--distilbert-base-uncased-finetuned-sst-2-english. Caching files will still work but in a degraded version that might require more space on your disk. This warning can be disabled by setting the `HF_HUB_DISABLE_SYMLINKS_WARNING` environment variable. For more details, see https://huggingface.co/docs/huggingface_hub/how-to-cache#limitations.\n",
      "To support symlinks on Windows, you either need to activate Developer Mode or to run Python as an administrator. In order to activate developer mode, see this article: https://docs.microsoft.com/en-us/windows/apps/get-started/enable-your-device-for-development\n",
      "  warnings.warn(message)\n"
     ]
    },
    {
     "data": {
      "application/vnd.jupyter.widget-view+json": {
       "model_id": "b9cd38f6150b43d5b07a33f2ca51ab22",
       "version_major": 2,
       "version_minor": 0
      },
      "text/plain": [
       "model.safetensors:   0%|          | 0.00/268M [00:00<?, ?B/s]"
      ]
     },
     "metadata": {},
     "output_type": "display_data"
    },
    {
     "data": {
      "application/vnd.jupyter.widget-view+json": {
       "model_id": "1958faf168a0415fa131c96673307052",
       "version_major": 2,
       "version_minor": 0
      },
      "text/plain": [
       "tokenizer_config.json:   0%|          | 0.00/48.0 [00:00<?, ?B/s]"
      ]
     },
     "metadata": {},
     "output_type": "display_data"
    },
    {
     "data": {
      "application/vnd.jupyter.widget-view+json": {
       "model_id": "e0ca5ed9dcb54eea9596cb79ec971930",
       "version_major": 2,
       "version_minor": 0
      },
      "text/plain": [
       "vocab.txt:   0%|          | 0.00/232k [00:00<?, ?B/s]"
      ]
     },
     "metadata": {},
     "output_type": "display_data"
    },
    {
     "name": "stdout",
     "output_type": "stream",
     "text": [
      " * Serving Flask app '__main__'\n",
      " * Debug mode: off\n"
     ]
    },
    {
     "name": "stderr",
     "output_type": "stream",
     "text": [
      "WARNING: This is a development server. Do not use it in a production deployment. Use a production WSGI server instead.\n",
      " * Running on all addresses (0.0.0.0)\n",
      " * Running on http://127.0.0.1:5555\n",
      " * Running on http://172.82.3.25:5555\n",
      "Press CTRL+C to quit\n",
      "127.0.0.1 - - [09/Mar/2025 20:30:57] \"GET / HTTP/1.1\" 200 -\n",
      "127.0.0.1 - - [09/Mar/2025 20:30:57] \"GET /favicon.ico HTTP/1.1\" 404 -\n",
      "127.0.0.1 - - [09/Mar/2025 20:50:21] \"OPTIONS /predict HTTP/1.1\" 200 -\n",
      "127.0.0.1 - - [09/Mar/2025 20:50:21] \"POST /predict HTTP/1.1\" 200 -\n"
     ]
    }
   ],
   "source": [
    "from flask import Flask, request, jsonify\n",
    "from flask_cors import CORS  # Importar CORS\n",
    "from transformers import AutoModelForSequenceClassification, AutoTokenizer\n",
    "import torch\n",
    "from threading import Thread\n",
    "\n",
    "# Crear la app de Flask\n",
    "app = Flask(__name__)\n",
    "\n",
    "# Habilitar CORS para todas las rutas\n",
    "CORS(app)  # Esto habilita CORS para todos los orÃ­genes\n",
    "\n",
    "# Cargar el modelo\n",
    "model_name = \"distilbert-base-uncased-finetuned-sst-2-english\"\n",
    "model = AutoModelForSequenceClassification.from_pretrained(model_name)\n",
    "tokenizer = AutoTokenizer.from_pretrained(model_name)\n",
    "\n",
    "# HTML como un string (lo puedes modificar)\n",
    "html_content = \"\"\"\n",
    "<!DOCTYPE html>\n",
    "<html lang=\"es\">\n",
    "<head>\n",
    "    <meta charset=\"UTF-8\">\n",
    "    <meta name=\"viewport\" content=\"width=device-width, initial-scale=1.0\">\n",
    "    <title>Prueba de Servicio de Predicción</title>\n",
    "    <script>\n",
    "        async function sendPrediction() {\n",
    "            const text = document.getElementById(\"inputText\").value;\n",
    "            const response = await fetch(\"http://localhost:5555/predict\", {\n",
    "                method: \"POST\",\n",
    "                headers: {\n",
    "                    \"Content-Type\": \"application/json\"\n",
    "                },\n",
    "                body: JSON.stringify({ text: text })\n",
    "            });\n",
    "\n",
    "            const data = await response.json();\n",
    "            document.getElementById(\"predictionResult\").innerText = `Predicción: ${data.prediction}`;\n",
    "        }\n",
    "    </script>\n",
    "</head>\n",
    "<body>\n",
    "    <div style=\"max-width: 600px; margin: 0 auto; text-align: center;\">\n",
    "        <h1>Servicio de Predicción de Sentimiento</h1>\n",
    "        <textarea id=\"inputText\" rows=\"4\" cols=\"50\" placeholder=\"Escribe un texto para predecir su sentimiento...\"></textarea>\n",
    "        <br><br>\n",
    "        <button onclick=\"sendPrediction()\">Obtener Predicción</button>\n",
    "        <p id=\"predictionResult\" style=\"margin-top: 20px; font-size: 18px; font-weight: bold;\"></p>\n",
    "    </div>\n",
    "</body>\n",
    "</html>\n",
    "\"\"\"\n",
    "\n",
    "# Ruta para servir el HTML\n",
    "@app.route(\"/\")\n",
    "def home():\n",
    "    return html_content\n",
    "\n",
    "# Ruta para la predicción\n",
    "@app.route(\"/predict\", methods=[\"POST\"])\n",
    "def predict():\n",
    "    data = request.json\n",
    "    inputs = tokenizer(data[\"text\"], return_tensors=\"pt\", truncation=True, padding=True)\n",
    "    with torch.no_grad():\n",
    "        outputs = model(**inputs)\n",
    "        prediction = torch.argmax(outputs.logits).item()\n",
    "    sentiment = \"Positivo\" if prediction == 1 else \"Negativo\"\n",
    "    return jsonify({\"prediction\": sentiment})\n",
    "\n",
    "# Ejecutar Flask en un hilo\n",
    "def run_flask():\n",
    "    app.run(host=\"0.0.0.0\", port=5555)\n",
    "\n",
    "# Crear un hilo para ejecutar Flask\n",
    "thread = Thread(target=run_flask)\n",
    "thread.start()"
   ]
  }
 ],
 "metadata": {
  "kernelspec": {
   "display_name": "flask_venv",
   "language": "python",
   "name": "python3"
  },
  "language_info": {
   "codemirror_mode": {
    "name": "ipython",
    "version": 3
   },
   "file_extension": ".py",
   "mimetype": "text/x-python",
   "name": "python",
   "nbconvert_exporter": "python",
   "pygments_lexer": "ipython3",
   "version": "3.12.8"
  }
 },
 "nbformat": 4,
 "nbformat_minor": 2
}
